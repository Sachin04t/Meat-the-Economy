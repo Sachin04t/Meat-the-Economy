{
  "cells": [
    {
      "cell_type": "markdown",
      "metadata": {
        "id": "view-in-github",
        "colab_type": "text"
      },
      "source": [
        "<a href=\"https://colab.research.google.com/github/Sachin04t/Meat-the-Economy/blob/main/cs506.ipynb\" target=\"_parent\"><img src=\"https://colab.research.google.com/assets/colab-badge.svg\" alt=\"Open In Colab\"/></a>"
      ]
    },
    {
      "cell_type": "code",
      "execution_count": 51,
      "metadata": {
        "colab": {
          "base_uri": "https://localhost:8080/",
          "height": 107
        },
        "id": "V0fYkGhvPWON",
        "outputId": "ee746c2a-0e5a-4cc9-8cc5-ba24b003471f"
      },
      "outputs": [
        {
          "output_type": "display_data",
          "data": {
            "text/plain": [
              "<IPython.core.display.HTML object>"
            ],
            "text/html": [
              "\n",
              "     <input type=\"file\" id=\"files-e627a514-07fe-47b5-af78-e25d846978fd\" name=\"files[]\" multiple disabled\n",
              "        style=\"border:none\" />\n",
              "     <output id=\"result-e627a514-07fe-47b5-af78-e25d846978fd\">\n",
              "      Upload widget is only available when the cell has been executed in the\n",
              "      current browser session. Please rerun this cell to enable.\n",
              "      </output>\n",
              "      <script>// Copyright 2017 Google LLC\n",
              "//\n",
              "// Licensed under the Apache License, Version 2.0 (the \"License\");\n",
              "// you may not use this file except in compliance with the License.\n",
              "// You may obtain a copy of the License at\n",
              "//\n",
              "//      http://www.apache.org/licenses/LICENSE-2.0\n",
              "//\n",
              "// Unless required by applicable law or agreed to in writing, software\n",
              "// distributed under the License is distributed on an \"AS IS\" BASIS,\n",
              "// WITHOUT WARRANTIES OR CONDITIONS OF ANY KIND, either express or implied.\n",
              "// See the License for the specific language governing permissions and\n",
              "// limitations under the License.\n",
              "\n",
              "/**\n",
              " * @fileoverview Helpers for google.colab Python module.\n",
              " */\n",
              "(function(scope) {\n",
              "function span(text, styleAttributes = {}) {\n",
              "  const element = document.createElement('span');\n",
              "  element.textContent = text;\n",
              "  for (const key of Object.keys(styleAttributes)) {\n",
              "    element.style[key] = styleAttributes[key];\n",
              "  }\n",
              "  return element;\n",
              "}\n",
              "\n",
              "// Max number of bytes which will be uploaded at a time.\n",
              "const MAX_PAYLOAD_SIZE = 100 * 1024;\n",
              "\n",
              "function _uploadFiles(inputId, outputId) {\n",
              "  const steps = uploadFilesStep(inputId, outputId);\n",
              "  const outputElement = document.getElementById(outputId);\n",
              "  // Cache steps on the outputElement to make it available for the next call\n",
              "  // to uploadFilesContinue from Python.\n",
              "  outputElement.steps = steps;\n",
              "\n",
              "  return _uploadFilesContinue(outputId);\n",
              "}\n",
              "\n",
              "// This is roughly an async generator (not supported in the browser yet),\n",
              "// where there are multiple asynchronous steps and the Python side is going\n",
              "// to poll for completion of each step.\n",
              "// This uses a Promise to block the python side on completion of each step,\n",
              "// then passes the result of the previous step as the input to the next step.\n",
              "function _uploadFilesContinue(outputId) {\n",
              "  const outputElement = document.getElementById(outputId);\n",
              "  const steps = outputElement.steps;\n",
              "\n",
              "  const next = steps.next(outputElement.lastPromiseValue);\n",
              "  return Promise.resolve(next.value.promise).then((value) => {\n",
              "    // Cache the last promise value to make it available to the next\n",
              "    // step of the generator.\n",
              "    outputElement.lastPromiseValue = value;\n",
              "    return next.value.response;\n",
              "  });\n",
              "}\n",
              "\n",
              "/**\n",
              " * Generator function which is called between each async step of the upload\n",
              " * process.\n",
              " * @param {string} inputId Element ID of the input file picker element.\n",
              " * @param {string} outputId Element ID of the output display.\n",
              " * @return {!Iterable<!Object>} Iterable of next steps.\n",
              " */\n",
              "function* uploadFilesStep(inputId, outputId) {\n",
              "  const inputElement = document.getElementById(inputId);\n",
              "  inputElement.disabled = false;\n",
              "\n",
              "  const outputElement = document.getElementById(outputId);\n",
              "  outputElement.innerHTML = '';\n",
              "\n",
              "  const pickedPromise = new Promise((resolve) => {\n",
              "    inputElement.addEventListener('change', (e) => {\n",
              "      resolve(e.target.files);\n",
              "    });\n",
              "  });\n",
              "\n",
              "  const cancel = document.createElement('button');\n",
              "  inputElement.parentElement.appendChild(cancel);\n",
              "  cancel.textContent = 'Cancel upload';\n",
              "  const cancelPromise = new Promise((resolve) => {\n",
              "    cancel.onclick = () => {\n",
              "      resolve(null);\n",
              "    };\n",
              "  });\n",
              "\n",
              "  // Wait for the user to pick the files.\n",
              "  const files = yield {\n",
              "    promise: Promise.race([pickedPromise, cancelPromise]),\n",
              "    response: {\n",
              "      action: 'starting',\n",
              "    }\n",
              "  };\n",
              "\n",
              "  cancel.remove();\n",
              "\n",
              "  // Disable the input element since further picks are not allowed.\n",
              "  inputElement.disabled = true;\n",
              "\n",
              "  if (!files) {\n",
              "    return {\n",
              "      response: {\n",
              "        action: 'complete',\n",
              "      }\n",
              "    };\n",
              "  }\n",
              "\n",
              "  for (const file of files) {\n",
              "    const li = document.createElement('li');\n",
              "    li.append(span(file.name, {fontWeight: 'bold'}));\n",
              "    li.append(span(\n",
              "        `(${file.type || 'n/a'}) - ${file.size} bytes, ` +\n",
              "        `last modified: ${\n",
              "            file.lastModifiedDate ? file.lastModifiedDate.toLocaleDateString() :\n",
              "                                    'n/a'} - `));\n",
              "    const percent = span('0% done');\n",
              "    li.appendChild(percent);\n",
              "\n",
              "    outputElement.appendChild(li);\n",
              "\n",
              "    const fileDataPromise = new Promise((resolve) => {\n",
              "      const reader = new FileReader();\n",
              "      reader.onload = (e) => {\n",
              "        resolve(e.target.result);\n",
              "      };\n",
              "      reader.readAsArrayBuffer(file);\n",
              "    });\n",
              "    // Wait for the data to be ready.\n",
              "    let fileData = yield {\n",
              "      promise: fileDataPromise,\n",
              "      response: {\n",
              "        action: 'continue',\n",
              "      }\n",
              "    };\n",
              "\n",
              "    // Use a chunked sending to avoid message size limits. See b/62115660.\n",
              "    let position = 0;\n",
              "    do {\n",
              "      const length = Math.min(fileData.byteLength - position, MAX_PAYLOAD_SIZE);\n",
              "      const chunk = new Uint8Array(fileData, position, length);\n",
              "      position += length;\n",
              "\n",
              "      const base64 = btoa(String.fromCharCode.apply(null, chunk));\n",
              "      yield {\n",
              "        response: {\n",
              "          action: 'append',\n",
              "          file: file.name,\n",
              "          data: base64,\n",
              "        },\n",
              "      };\n",
              "\n",
              "      let percentDone = fileData.byteLength === 0 ?\n",
              "          100 :\n",
              "          Math.round((position / fileData.byteLength) * 100);\n",
              "      percent.textContent = `${percentDone}% done`;\n",
              "\n",
              "    } while (position < fileData.byteLength);\n",
              "  }\n",
              "\n",
              "  // All done.\n",
              "  yield {\n",
              "    response: {\n",
              "      action: 'complete',\n",
              "    }\n",
              "  };\n",
              "}\n",
              "\n",
              "scope.google = scope.google || {};\n",
              "scope.google.colab = scope.google.colab || {};\n",
              "scope.google.colab._files = {\n",
              "  _uploadFiles,\n",
              "  _uploadFilesContinue,\n",
              "};\n",
              "})(self);\n",
              "</script> "
            ]
          },
          "metadata": {}
        },
        {
          "output_type": "stream",
          "name": "stdout",
          "text": [
            "Saving Consumption of meat per capita.csv to Consumption of meat per capita (5).csv\n",
            "Saving GDP per capita PPP.csv to GDP per capita PPP (2).csv\n"
          ]
        }
      ],
      "source": [
        "import pandas as pd\n",
        "import numpy as np\n",
        "from google.colab import files\n",
        "uploaded = files.upload()"
      ]
    },
    {
      "cell_type": "code",
      "source": [
        "gdp_df = pd.read_csv('GDP per capita PPP.csv')\n",
        "gdp_df.head()\n",
        "gdp_df_filtered = gdp_df[(gdp_df['Year'] >= 2002) & (gdp_df['Year'] <= 2021)].copy()"
      ],
      "metadata": {
        "id": "GefrMaPXa-Vy"
      },
      "execution_count": 46,
      "outputs": []
    },
    {
      "cell_type": "code",
      "execution_count": 47,
      "metadata": {
        "id": "yzLMQ6rJSt3b"
      },
      "outputs": [],
      "source": [
        "meat_df = pd.read_csv('Consumption of meat per capita.csv')\n",
        "meat_df.head()\n",
        "meat_df_filtered = meat_df[(meat_df['Year'] >= 2002) & (meat_df['Year'] <= 2021)].copy()"
      ]
    },
    {
      "cell_type": "code",
      "source": [
        "meat_columns = ['Poultry', 'Beef', 'Sheep and goat', 'Pork', 'Other meats', 'Fish and seafood']\n",
        "meat_df_filtered['Meatball'] = meat_df_filtered[meat_columns].sum(axis = 1)"
      ],
      "metadata": {
        "id": "bNNRRH1Tfj58"
      },
      "execution_count": 48,
      "outputs": []
    },
    {
      "cell_type": "code",
      "execution_count": 62,
      "metadata": {
        "colab": {
          "base_uri": "https://localhost:8080/"
        },
        "id": "KlEG9na4Ttwu",
        "outputId": "4ca0c751-9246-45d7-b08a-51045031567c"
      },
      "outputs": [
        {
          "output_type": "stream",
          "name": "stdout",
          "text": [
            "        Entity  Year   Poultry      Beef  Sheep and goat  Pork  Other meats  \\\n",
            "0  Afghanistan  2002  1.194718  7.147164        5.656409   NaN     0.496918   \n",
            "1  Afghanistan  2003  1.265783  6.063511        5.369372   NaN     0.459357   \n",
            "2  Afghanistan  2004  1.519444  6.414298        5.557698   NaN     0.469090   \n",
            "3  Afghanistan  2005  2.271090  5.927240        5.468948   NaN     0.590687   \n",
            "4  Afghanistan  2006  1.400274  4.764960        4.694443   NaN     0.443252   \n",
            "\n",
            "   Fish and seafood   Meatball Сontinent  \\\n",
            "0          0.063436  14.558646      Asia   \n",
            "1          0.061248  13.219272      Asia   \n",
            "2          0.061186  14.021716      Asia   \n",
            "3          0.061106  14.319072      Asia   \n",
            "4          0.060443  11.363372      Asia   \n",
            "\n",
            "   GDP per capita, PPP (constant 2017 international $)  \n",
            "0                                          1280.4631    \n",
            "1                                          1292.3335    \n",
            "2                                          1260.0605    \n",
            "3                                          1352.3207    \n",
            "4                                          1366.9932    \n",
            "Missing GDP values: 0\n",
            "Total rows: 3371\n",
            "Percentage missing: 0.00%\n"
          ]
        }
      ],
      "source": [
        "merged_df = pd.merge(meat_df_filtered, gdp_df_filtered, left_on=['Entity', 'Year'], right_on=[\"Entity\", \"Year\"], how= \"inner\")\n",
        "# Remove rows where GDP growth (your target) is NaN\n",
        "merged_df_clean = merged_df.dropna(subset=['GDP per capita, PPP (constant 2017 international $)'])\n",
        "merged_df = merged_df_clean\n",
        "print(merged_df.head())\n",
        "\n",
        "##########################################\n",
        "#allows us to scroll throug columns of merged table#\n",
        "\n",
        "# from google.colab import data_table\n",
        "# data_table.DataTable(merged_df.head(100))  # Scrollable and interactive view\n",
        "########################################\n",
        "#shows us how mnay rows have missing gdp values#\n",
        "\n",
        "# missing_count = merged_df['GDP per capita, PPP (constant 2017 international $)'].isna().sum()\n",
        "# total_rows = merged_df.shape[0]\n",
        "# print(f\"Missing GDP values: {missing_count}\")\n",
        "# print(f\"Total rows: {total_rows}\")\n",
        "# print(f\"Percentage missing: {100 * missing_count / total_rows:.2f}%\")\n",
        "\n"
      ]
    },
    {
      "cell_type": "code",
      "source": [
        "from sklearn.linear_model import LinearRegression\n",
        "from sklearn.model_selection import train_test_split\n",
        "from sklearn.metrics import r2_score\n",
        "X = merged_df[['Meatball']]\n",
        "y = merged_df['GDP per capita, PPP (constant 2017 international $)']\n",
        "\n",
        "X_train, X_test, y_train, y_test = train_test_split(X, y, test_size=0.2, random_state=42)\n",
        "\n",
        "model = LinearRegression()\n",
        "model.fit(X_train, y_train)\n",
        "\n",
        "y_pred = model.predict(X_test)\n",
        "print(f\"R^2 Score: {r2_score(y_test, y_pred)}\")"
      ],
      "metadata": {
        "id": "w73nJJKdd-5e",
        "colab": {
          "base_uri": "https://localhost:8080/"
        },
        "outputId": "b992b72d-fdd8-4b2a-dd62-bb981f49e4a3"
      },
      "execution_count": 63,
      "outputs": [
        {
          "output_type": "stream",
          "name": "stdout",
          "text": [
            "R^2 Score: 0.4403590341796645\n"
          ]
        }
      ]
    }
  ],
  "metadata": {
    "colab": {
      "provenance": [],
      "include_colab_link": true
    },
    "kernelspec": {
      "display_name": "Python 3",
      "name": "python3"
    },
    "language_info": {
      "name": "python"
    }
  },
  "nbformat": 4,
  "nbformat_minor": 0
}